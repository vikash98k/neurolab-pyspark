{
 "cells": [
  {
   "cell_type": "markdown",
   "metadata": {},
   "source": [
    "Q.3)Write a PySpark code to read a JSON file named \"students.json\" containing student records with the following schema: \"name\" (string), \"age\" (integer), \"grade\" (string). Filter the DataFrame to include only students whose age is greater than 18."
   ]
  },
  {
   "cell_type": "code",
   "execution_count": 1,
   "metadata": {},
   "outputs": [
    {
     "name": "stdout",
     "output_type": "stream",
     "text": [
      "JSON file created successfully.\n"
     ]
    }
   ],
   "source": [
    "import json\n",
    "\n",
    "# Define student records as a list of dictionaries\n",
    "students = [\n",
    "    {\"name\": \"John Doe\", \"age\": 20, \"grade\": \"A\"},\n",
    "    {\"name\": \"Jane Smith\", \"age\": 19, \"grade\": \"B\"},\n",
    "    {\"name\": \"Alex Johnson\", \"age\": 21, \"grade\": \"A\"},\n",
    "    {\"name\": \"Emily Brown\", \"age\": 18, \"grade\": \"C\"}\n",
    "]\n",
    "\n",
    "# Specify the path and filename for the JSON file\n",
    "json_file = \"students.json\"\n",
    "\n",
    "# Write the data to the JSON file\n",
    "with open(json_file, \"w\") as file:\n",
    "    json.dump(students, file)\n",
    "\n",
    "print(\"JSON file created successfully.\")\n"
   ]
  },
  {
   "cell_type": "code",
   "execution_count": 2,
   "metadata": {},
   "outputs": [
    {
     "name": "stderr",
     "output_type": "stream",
     "text": [
      "                                                                                \r"
     ]
    },
    {
     "name": "stdout",
     "output_type": "stream",
     "text": [
      "+---+-----+------------+\n",
      "|age|grade|        name|\n",
      "+---+-----+------------+\n",
      "| 20|    A|    John Doe|\n",
      "| 19|    B|  Jane Smith|\n",
      "| 21|    A|Alex Johnson|\n",
      "+---+-----+------------+\n",
      "\n"
     ]
    }
   ],
   "source": [
    "from pyspark.sql import SparkSession\n",
    "from pyspark.sql.functions import col\n",
    "\n",
    "# Create a SparkSession\n",
    "spark = SparkSession.builder \\\n",
    "    .appName(\"Read JSON and Filter\") \\\n",
    "    .getOrCreate()\n",
    "\n",
    "# Read JSON file into a DataFrame\n",
    "df = spark.read.json(\"/config/workspace/test_3/students.json\")\n",
    "\n",
    "# Filter the DataFrame for students with age greater than 18\n",
    "filtered_df = df.filter(col(\"age\") > 18)\n",
    "\n",
    "# Show the result\n",
    "filtered_df.show()\n"
   ]
  }
 ],
 "metadata": {
  "kernelspec": {
   "display_name": "Python 3.8.10 64-bit",
   "language": "python",
   "name": "python3"
  },
  "language_info": {
   "codemirror_mode": {
    "name": "ipython",
    "version": 3
   },
   "file_extension": ".py",
   "mimetype": "text/x-python",
   "name": "python",
   "nbconvert_exporter": "python",
   "pygments_lexer": "ipython3",
   "version": "3.8.10"
  },
  "orig_nbformat": 4,
  "vscode": {
   "interpreter": {
    "hash": "e7370f93d1d0cde622a1f8e1c04877d8463912d04d973331ad4851f04de6915a"
   }
  }
 },
 "nbformat": 4,
 "nbformat_minor": 2
}
