{
 "cells": [
  {
   "cell_type": "markdown",
   "metadata": {},
   "source": [
    "Q.2)Given a PySpark DataFrame named \"sales_data\" with columns \"product_name\" and \"revenue\", write a code to calculate the total revenue for each product and display the result in descending order."
   ]
  },
  {
   "cell_type": "code",
   "execution_count": 1,
   "metadata": {},
   "outputs": [
    {
     "name": "stderr",
     "output_type": "stream",
     "text": [
      "Setting default log level to \"WARN\".\n",
      "To adjust logging level use sc.setLogLevel(newLevel). For SparkR, use setLogLevel(newLevel).\n",
      "23/07/03 19:33:00 WARN NativeCodeLoader: Unable to load native-hadoop library for your platform... using builtin-java classes where applicable\n",
      "23/07/03 19:33:01 WARN Utils: Service 'SparkUI' could not bind on port 4040. Attempting port 4041.\n",
      "[Stage 0:>                                                        (0 + 64) / 64]\r"
     ]
    },
    {
     "name": "stdout",
     "output_type": "stream",
     "text": [
      "+------------+-------------+\n",
      "|product_name|total_revenue|\n",
      "+------------+-------------+\n",
      "|    product2|         2000|\n",
      "|    product4|         1300|\n",
      "|    product1|         1100|\n",
      "|    product6|          800|\n",
      "|    product5|          600|\n",
      "|    product3|          300|\n",
      "+------------+-------------+\n",
      "\n"
     ]
    },
    {
     "name": "stderr",
     "output_type": "stream",
     "text": [
      "                                                                                \r"
     ]
    }
   ],
   "source": [
    "\n",
    "from pyspark.sql import SparkSession\n",
    "from pyspark.sql.types import StructType,StructField, StringType, IntegerType\n",
    "from pyspark.sql.functions import sum\n",
    "from pyspark.sql.window import Window\n",
    "from pyspark.sql.functions import desc\n",
    "\n",
    "if __name__ == '__main__':\n",
    "    spark = SparkSession.builder.appName(\"Calculate Total Revenue\").getOrCreate()\n",
    "\n",
    "    data = [(\"product1\",100),\n",
    "    (\"product2\",2000),\n",
    "    (\"product3\",300),\n",
    "    (\"product4\",400),\n",
    "    (\"product5\",600),\n",
    "    (\"product6\",800),\n",
    "    (\"product4\",900),\n",
    "    ('product1',1000)\n",
    "\n",
    "    ]\n",
    "    \n",
    "    schema = [\"product_name\", \"revenue\"]\n",
    "    sales_data = spark.createDataFrame(data, schema)\n",
    "\n",
    "    total_revenue_df = sales_data.groupBy(\"product_name\").agg(sum(\"revenue\").alias(\"total_revenue\"))\n",
    "    total_revenue_df = total_revenue_df.orderBy(desc(\"total_revenue\"))\n",
    "    total_revenue_df.show()\n",
    "https://github.com/vikash98k/neurolab-pyspark.git"
   ]
  }
 ],
 "metadata": {
  "kernelspec": {
   "display_name": "Python 3.8.10 64-bit",
   "language": "python",
   "name": "python3"
  },
  "language_info": {
   "codemirror_mode": {
    "name": "ipython",
    "version": 3
   },
   "file_extension": ".py",
   "mimetype": "text/x-python",
   "name": "python",
   "nbconvert_exporter": "python",
   "pygments_lexer": "ipython3",
   "version": "3.8.10"
  },
  "orig_nbformat": 4,
  "vscode": {
   "interpreter": {
    "hash": "e7370f93d1d0cde622a1f8e1c04877d8463912d04d973331ad4851f04de6915a"
   }
  }
 },
 "nbformat": 4,
 "nbformat_minor": 2
}
