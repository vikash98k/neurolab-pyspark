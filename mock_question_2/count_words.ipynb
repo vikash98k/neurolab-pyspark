{
 "cells": [
  {
   "cell_type": "code",
   "execution_count": 2,
   "metadata": {},
   "outputs": [
    {
     "name": "stdout",
     "output_type": "stream",
     "text": [
      "is: 2\n",
      "an: 1\n",
      "input: 1\n",
      "file.: 1\n",
      "It: 1\n",
      "Each: 1\n",
      "line: 1\n",
      "processed: 1\n",
      "count: 2\n",
      "of: 1\n",
      "last: 1\n",
      "line.: 1\n",
      "This: 2\n",
      "example: 1\n",
      "contains: 1\n",
      "some: 1\n",
      "sample: 1\n",
      "text: 1\n",
      "for: 1\n",
      "word: 1\n",
      "count.: 1\n",
      "will: 2\n",
      "be: 1\n",
      "independently.: 1\n",
      "Word: 1\n",
      "program: 1\n",
      "the: 2\n",
      "occurrences: 1\n",
      "each: 1\n",
      "word.: 1\n"
     ]
    }
   ],
   "source": [
    "from pyspark import SparkConf, SparkContext\n",
    "\n",
    "conf = SparkConf().setAppName(\"WordCount\")\n",
    "\n",
    "sc = SparkContext(conf=conf)\n",
    "\n",
    "\n",
    "input_file = sc.textFile(\"input.txt\")\n",
    "\n",
    "word_counts = input_file \\\n",
    "    .flatMap(lambda line: line.split(\" \")).map(lambda word: (word, 1)).reduceByKey(lambda a, b: a + b) \n",
    "\n",
    "results = word_counts.collect()\n",
    "\n",
    "\n",
    "for (word, count) in results:\n",
    "    print(f\"{word}: {count}\")\n",
    "\n",
    "sc.stop()"
   ]
  }
 ],
 "metadata": {
  "kernelspec": {
   "display_name": "Python 3.8.10 64-bit",
   "language": "python",
   "name": "python3"
  },
  "language_info": {
   "codemirror_mode": {
    "name": "ipython",
    "version": 3
   },
   "file_extension": ".py",
   "mimetype": "text/x-python",
   "name": "python",
   "nbconvert_exporter": "python",
   "pygments_lexer": "ipython3",
   "version": "3.8.10"
  },
  "orig_nbformat": 4,
  "vscode": {
   "interpreter": {
    "hash": "e7370f93d1d0cde622a1f8e1c04877d8463912d04d973331ad4851f04de6915a"
   }
  }
 },
 "nbformat": 4,
 "nbformat_minor": 2
}
