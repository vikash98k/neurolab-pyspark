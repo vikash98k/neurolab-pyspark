{
 "cells": [
  {
   "cell_type": "markdown",
   "metadata": {},
   "source": [
    "Q.1)  Write a PySpark code to read a CSV file named \"employees.csv\" containing the following columns: \"employee_id\", \"name\", \"age\", \"department\". Display the top 10 records from the DataFrame."
   ]
  },
  {
   "cell_type": "code",
   "execution_count": 2,
   "metadata": {},
   "outputs": [
    {
     "name": "stdout",
     "output_type": "stream",
     "text": [
      "+-----------+--------+---+----------+\n",
      "|employee_id|    name|age|department|\n",
      "+-----------+--------+---+----------+\n",
      "|          1|  vikash| 20|        IT|\n",
      "|          2|  Manish| 20|        ME|\n",
      "|          3|   Rohit| 20|     Sales|\n",
      "|          4|   Rahul| 20| Developer|\n",
      "|          5|  Tushar| 20|  Accounts|\n",
      "|          6|   Ronak| 20|        HR|\n",
      "|          7|  Ramesh| 20| Marketing|\n",
      "|          8|   Mohit| 20|   Testing|\n",
      "|          9|    Yash| 20|   Support|\n",
      "|         10|Surendra| 20|    Sales2|\n",
      "+-----------+--------+---+----------+\n",
      "only showing top 10 rows\n",
      "\n"
     ]
    }
   ],
   "source": [
    "from pyspark.sql import SparkSession\n",
    "from pyspark.sql.types import StructType,StructField, StringType, IntegerType\n",
    "from pyspark.shell import spark\n",
    "\n",
    "df = spark.read.csv(r\"/config/workspace/test_1/employees.csv\", header=True, inferSchema=True)\n",
    "df.show(10)"
   ]
  }
 ],
 "metadata": {
  "kernelspec": {
   "display_name": "Python 3.8.10 64-bit",
   "language": "python",
   "name": "python3"
  },
  "language_info": {
   "codemirror_mode": {
    "name": "ipython",
    "version": 3
   },
   "file_extension": ".py",
   "mimetype": "text/x-python",
   "name": "python",
   "nbconvert_exporter": "python",
   "pygments_lexer": "ipython3",
   "version": "3.8.10"
  },
  "orig_nbformat": 4,
  "vscode": {
   "interpreter": {
    "hash": "e7370f93d1d0cde622a1f8e1c04877d8463912d04d973331ad4851f04de6915a"
   }
  }
 },
 "nbformat": 4,
 "nbformat_minor": 2
}
