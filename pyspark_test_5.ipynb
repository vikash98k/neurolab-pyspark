{
 "cells": [
  {
   "cell_type": "markdown",
   "metadata": {},
   "source": [
    "Q.5) Given a PySpark DataFrame named \"logs\" with columns \"timestamp\" (timestamp) and \"event\" (string), write a code to count the number of events that occurred in each hour and display the result sorted by the hour.\n"
   ]
  },
  {
   "cell_type": "code",
   "execution_count": 1,
   "metadata": {},
   "outputs": [
    {
     "name": "stderr",
     "output_type": "stream",
     "text": [
      "Setting default log level to \"WARN\".\n",
      "To adjust logging level use sc.setLogLevel(newLevel). For SparkR, use setLogLevel(newLevel).\n",
      "23/07/03 19:26:22 WARN NativeCodeLoader: Unable to load native-hadoop library for your platform... using builtin-java classes where applicable\n",
      "23/07/03 19:26:23 WARN Utils: Service 'SparkUI' could not bind on port 4040. Attempting port 4041.\n",
      "23/07/03 19:26:23 WARN Utils: Service 'SparkUI' could not bind on port 4041. Attempting port 4042.\n",
      "23/07/03 19:26:23 WARN Utils: Service 'SparkUI' could not bind on port 4042. Attempting port 4043.\n",
      "                                                                                \r"
     ]
    },
    {
     "name": "stdout",
     "output_type": "stream",
     "text": [
      "+-------+-------------------+\n",
      "|  event|          timestamp|\n",
      "+-------+-------------------+\n",
      "|Event 1|2020-08-20 10:00:00|\n",
      "|Event 2|2020-08-20 10:01:00|\n",
      "|Event 3|2020-08-21 10:02:00|\n",
      "|Event 4|2020-08-20 10:00:00|\n",
      "|Event 5|2020-08-20 10:01:00|\n",
      "|Event 6|2020-08-21 10:02:00|\n",
      "|Event 7|2020-08-20 10:00:00|\n",
      "|Event 8|2020-08-20 10:01:00|\n",
      "|Event 9|2020-08-21 10:02:00|\n",
      "+-------+-------------------+\n",
      "\n"
     ]
    }
   ],
   "source": [
    "from pyspark.sql import SparkSession\n",
    "from pyspark.sql.types import StructType, StructField, TimestampType, StringType\n",
    "from datetime import datetime\n",
    "# Create a SparkSession\n",
    "spark = SparkSession.builder \\\n",
    "    .appName(\"Create Dummy DataFrame\") \\\n",
    "    .getOrCreate()\n",
    "\n",
    "# Define the schema for the DataFrame\n",
    "schema = StructType([\n",
    "    StructField(\"event\", StringType(), nullable=False),\n",
    "    StructField(\"timestamp\", TimestampType(), nullable=False)\n",
    "])\n",
    "\n",
    "# Create a list of dummy data\n",
    "dummy_data = [('Event 1',datetime.strptime('2020-08-20 10:00:00', '%Y-%m-%d %H:%M:%S')),\n",
    "('Event 2',datetime.strptime('2020-08-20 10:01:00', '%Y-%m-%d %H:%M:%S')),\n",
    "('Event 3',datetime.strptime('2020-08-21 10:02:00', '%Y-%m-%d %H:%M:%S')),\n",
    "('Event 4',datetime.strptime('2020-08-20 10:00:00', '%Y-%m-%d %H:%M:%S')),\n",
    "('Event 5',datetime.strptime('2020-08-20 10:01:00', '%Y-%m-%d %H:%M:%S')),\n",
    "('Event 6',datetime.strptime('2020-08-21 10:02:00', '%Y-%m-%d %H:%M:%S')),\n",
    "('Event 7',datetime.strptime('2020-08-20 10:00:00', '%Y-%m-%d %H:%M:%S')),\n",
    "('Event 8',datetime.strptime('2020-08-20 10:01:00', '%Y-%m-%d %H:%M:%S')),\n",
    "('Event 9',datetime.strptime('2020-08-21 10:02:00', '%Y-%m-%d %H:%M:%S'))\n",
    "]\n",
    "\n",
    "# Create the DataFrame\n",
    "logs = spark.createDataFrame(dummy_data, schema)\n",
    "\n",
    "# Show the DataFrame\n",
    "logs.show()\n"
   ]
  },
  {
   "cell_type": "code",
   "execution_count": 2,
   "metadata": {},
   "outputs": [
    {
     "name": "stderr",
     "output_type": "stream",
     "text": [
      "[Stage 4:>                                                        (0 + 64) / 64]\r"
     ]
    },
    {
     "name": "stdout",
     "output_type": "stream",
     "text": [
      "+----+-----------+\n",
      "|hour|event_count|\n",
      "+----+-----------+\n",
      "|  10|          9|\n",
      "+----+-----------+\n",
      "\n"
     ]
    },
    {
     "name": "stderr",
     "output_type": "stream",
     "text": [
      "                                                                                \r"
     ]
    }
   ],
   "source": [
    "from pyspark.sql import SparkSession\n",
    "from pyspark.sql.functions import hour\n",
    "from pyspark.sql.functions import count\n",
    "\n",
    "# Create a SparkSession\n",
    "spark = SparkSession.builder \\\n",
    "    .appName(\"Count Events by Hour\") \\\n",
    "    .getOrCreate()\n",
    "\n",
    "# Assuming \"logs\" is the PySpark DataFrame with columns \"timestamp\" and \"event\"\n",
    "\n",
    "# Extract the hour from the timestamp column\n",
    "logs_with_hour = logs.withColumn(\"hour\", hour(\"timestamp\"))\n",
    "\n",
    "# Count the number of events for each hour\n",
    "events_count_df = logs_with_hour.groupBy(\"hour\").agg(count(\"event\").alias(\"event_count\"))\n",
    "\n",
    "# Sort the result by the hour column\n",
    "sorted_result = events_count_df.orderBy(\"hour\")\n",
    "\n",
    "# Show the result\n",
    "sorted_result.show()\n"
   ]
  }
 ],
 "metadata": {
  "kernelspec": {
   "display_name": "Python 3.8.10 64-bit",
   "language": "python",
   "name": "python3"
  },
  "language_info": {
   "codemirror_mode": {
    "name": "ipython",
    "version": 3
   },
   "file_extension": ".py",
   "mimetype": "text/x-python",
   "name": "python",
   "nbconvert_exporter": "python",
   "pygments_lexer": "ipython3",
   "version": "3.8.10"
  },
  "orig_nbformat": 4,
  "vscode": {
   "interpreter": {
    "hash": "e7370f93d1d0cde622a1f8e1c04877d8463912d04d973331ad4851f04de6915a"
   }
  }
 },
 "nbformat": 4,
 "nbformat_minor": 2
}
